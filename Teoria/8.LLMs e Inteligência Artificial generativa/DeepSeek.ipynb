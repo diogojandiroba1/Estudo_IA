{
  "nbformat": 4,
  "nbformat_minor": 0,
  "metadata": {
    "colab": {
      "provenance": []
    },
    "kernelspec": {
      "name": "python3",
      "display_name": "Python 3"
    },
    "language_info": {
      "name": "python"
    }
  },
  "cells": [
    {
      "cell_type": "code",
      "execution_count": null,
      "metadata": {
        "id": "aeygxKrURFtM"
      },
      "outputs": [],
      "source": [
        "api_key = \"sk-d96c73b4f5854162835764b2af43a027\""
      ]
    },
    {
      "cell_type": "code",
      "source": [
        "from openai import OpenAI\n",
        "url = \"https://api.deepseek.com\"\n",
        "client = OpenAI(api_key=api_key,base_url=url)\n",
        "\n",
        "response = client.chat.completions.create(\n",
        "    model=\"deepseek-chat\",\n",
        "    messages=[\n",
        "        {\"role\" : \"system\", \"content\" : \"Você é um assistente que deve responder de maneira clara e objetiva\"},\n",
        "        {\"role\" : \"user\" , \"content\" : \"Cite uma frase de Carl Sagan\"}\n",
        "    ]\n",
        ")\n",
        "\n",
        "print(response.choices[0].message.content)"
      ],
      "metadata": {
        "colab": {
          "base_uri": "https://localhost:8080/"
        },
        "id": "76kTlqxrRwGo",
        "outputId": "6a72f07c-1804-4cbd-e419-bfea312723b5"
      },
      "execution_count": null,
      "outputs": [
        {
          "output_type": "stream",
          "name": "stdout",
          "text": [
            "\"Em algum lugar, algo incrível está esperando para ser descoberto.\"  \n",
            "\n",
            "*(Frase famosa de Carl Sagan que reflete seu otimismo e curiosidade sobre a ciência e o universo.)*\n"
          ]
        }
      ]
    },
    {
      "cell_type": "code",
      "source": [
        "import requests\n",
        "import json\n",
        "\n",
        "url = \"https://api.deepseek.com/chat/completions\"\n",
        "\n",
        "headers = {\n",
        "    \"Content-Type\" : \"application/json\",\n",
        "    \"Authorization\" : f\"Bearer {api_key}\"\n",
        "}\n",
        "\n",
        "payload = {\n",
        "    \"model\" : \"deepseek-chat\",\n",
        "    \"messages\": [\n",
        "        {\"role\" : \"system\", \"content\" : \"Você é um assistente que deve responder de maneira clara e objetiva\"},\n",
        "        {\"role\" : \"user\" , \"content\" : \"Cite uma frase de Carl Sagan\"}\n",
        "    ]\n",
        "}\n",
        "\n",
        "response = requests.post(url, headers=headers, data=json.dumps(payload))\n",
        "\n",
        "result = response.json()\n",
        "print(result['choices'][0]['message']['content'])"
      ],
      "metadata": {
        "colab": {
          "base_uri": "https://localhost:8080/"
        },
        "id": "kqFr8k93Ulqm",
        "outputId": "b2893ef4-a839-48db-b52c-20cbbf911ef6"
      },
      "execution_count": null,
      "outputs": [
        {
          "output_type": "stream",
          "name": "stdout",
          "text": [
            "\"Em algum lugar, algo incrível está esperando para ser descoberto.\"  \n",
            "\n",
            "*(Esta é uma das frases mais famosas de Carl Sagan, refletindo seu otimismo e curiosidade sobre a ciência e o universo.)*\n"
          ]
        }
      ]
    }
  ]
}