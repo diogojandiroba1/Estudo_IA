{
  "nbformat": 4,
  "nbformat_minor": 0,
  "metadata": {
    "colab": {
      "provenance": []
    },
    "kernelspec": {
      "name": "python3",
      "display_name": "Python 3"
    },
    "language_info": {
      "name": "python"
    }
  },
  "cells": [
    {
      "cell_type": "code",
      "execution_count": null,
      "metadata": {
        "id": "cOgPX-KERuwW"
      },
      "outputs": [],
      "source": [
        "import pandas as pd\n",
        "from sklearn.model_selection import train_test_split\n",
        "from sklearn.svm import SVC\n",
        "from sklearn.metrics import hamming_loss\n",
        "from sklearn.multioutput import ClassifierChain\n",
        "from sklearn.preprocessing import StandardScaler"
      ]
    },
    {
      "cell_type": "code",
      "source": [
        "musica = pd.read_csv(\"Musica.csv\")\n",
        "musica.head(10)"
      ],
      "metadata": {
        "id": "xvM_9RorSZBo"
      },
      "execution_count": null,
      "outputs": []
    },
    {
      "cell_type": "code",
      "source": [
        "musica.shape"
      ],
      "metadata": {
        "id": "BObY56ndTUJU"
      },
      "execution_count": null,
      "outputs": []
    },
    {
      "cell_type": "code",
      "source": [
        "classe = musica.iloc[:, 0:6].values\n",
        "previsores = musica.iloc[:, 7:78].values"
      ],
      "metadata": {
        "id": "1SSqzZYmUaHu"
      },
      "execution_count": null,
      "outputs": []
    },
    {
      "cell_type": "code",
      "source": [
        "scaler = StandardScaler()\n",
        "previsores = scaler.fit_transform(previsores)"
      ],
      "metadata": {
        "id": "iDl4NsQ-mtiS"
      },
      "execution_count": null,
      "outputs": []
    },
    {
      "cell_type": "code",
      "source": [
        "X_treinamento, X_teste, y_treinamento, y_teste =\n",
        "  train_test_split(previsores, classe, test_size=0.3, random_state=0)"
      ],
      "metadata": {
        "id": "Rhp-egnlmwE1"
      },
      "execution_count": null,
      "outputs": []
    },
    {
      "cell_type": "code",
      "source": [
        "svm = SVC()\n",
        "classifier_chain = ClassifierChain(base_estimator=svm, random_state=0)\n",
        "classifier_chain.fit(X_treinamento, y_treinamento)"
      ],
      "metadata": {
        "id": "v-G4QQWGUraR"
      },
      "execution_count": null,
      "outputs": []
    },
    {
      "cell_type": "code",
      "source": [
        "y_pred = classifier_chain.predict(X_teste)\n",
        "loss = hamming_loss(y_teste, y_pred)\n",
        "print(f\"Hamming Loss: {loss}\")"
      ],
      "metadata": {
        "id": "hfzqd_0NU97k"
      },
      "execution_count": null,
      "outputs": []
    },
    {
      "cell_type": "code",
      "source": [],
      "metadata": {
        "id": "7Lje8oKQXKiE"
      },
      "execution_count": null,
      "outputs": []
    }
  ]
}